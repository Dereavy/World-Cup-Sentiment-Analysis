{
 "cells": [
  {
   "cell_type": "code",
   "execution_count": 1,
   "id": "de4c50e8-2432-4fc2-9a40-fd785c8fa119",
   "metadata": {
    "scrolled": true,
    "tags": []
   },
   "outputs": [
    {
     "ename": "SyntaxError",
     "evalue": "invalid syntax (3289085380.py, line 16)",
     "output_type": "error",
     "traceback": [
      "\u001b[0;36m  File \u001b[0;32m\"/tmp/ipykernel_8705/3289085380.py\"\u001b[0;36m, line \u001b[0;32m16\u001b[0m\n\u001b[0;31m    if(producer=\"kafka\"):\u001b[0m\n\u001b[0m               ^\u001b[0m\n\u001b[0;31mSyntaxError\u001b[0m\u001b[0;31m:\u001b[0m invalid syntax\n"
     ]
    }
   ],
   "source": [
    "import os\n",
    "import json\n",
    "from array import array\n",
    "from csv import writer\n",
    "from datetime import datetime\n",
    "from kafka import KafkaProducer\n",
    "# pip3 install paho-mqtt\n",
    "import paho.mqtt.publish as publish\n",
    "\n",
    "%run tweets_consumer.ipynb import TweetConsumer \n",
    "%run sentiment_analysis.ipynb import SentimentAnalysis\n",
    "%run database_service.ipynb import DatabaseService\n",
    "%run mqtt_broker.ipynb import MQTTProducer\n",
    "\n",
    "# Sentiment analysis producer with kafka\n",
    "class SentimentAnalysisProducer(producer=\"mqtt\"):\n",
    "\n",
    "    if(producer=\"kafka\"):\n",
    "        producer = KafkaProducer(bootstrap_servers='localhost:9092')\n",
    "\n",
    "     # docs: https://pypi.org/project/paho-mqtt\n",
    "    if(producer=\"mqtt\"):\n",
    "        mqtt = MQTTProducer(broker='localhost',port=1883, topic='tweet_sentiment')\n",
    "        producer = mqtt.connect_mqtt()\n",
    "\n",
    "    consumer = TweetConsumer.consumer\n",
    "    sentiment_analysis = SentimentAnalysis()\n",
    "    database_service = DatabaseService()\n",
    "        \n",
    "    def stream(self):\n",
    "        # Prepocess the tweets:\n",
    "        for message in self.consumer:\n",
    "            tweet = message.value.decode()\n",
    "            sentiment, polarity, text = self.sentiment_analysis.get_sentiment(tweet)\n",
    "            sentiment_package = str([sentiment, polarity, text]).encode()\n",
    "            \n",
    "            # Send to cold layer\n",
    "            self.database_service.to_csv(text, polarity, sentiment)\n",
    "            \n",
    "            # Send to hot layer\n",
    "            if(producer=\"kafka\"):\n",
    "                self.producer.send(\"tweet_sentiment\", sentiment_package)\n",
    "            \n",
    "            if(producer=\"mqtt\"):\n",
    "                self.producer.publish(\"tweet_sentiment\", sentiment_package)\n",
    "                \n",
    "            print(sentiment, polarity, text)\n",
    "            \n",
    "sentiment_producer = SentimentAnalysisProducer()\n",
    "sentiment_producer.stream()"
   ]
  },
  {
   "cell_type": "code",
   "execution_count": null,
   "id": "5e46bdea-1c39-4cfc-9bb4-8b670cff8262",
   "metadata": {},
   "outputs": [],
   "source": []
  },
  {
   "cell_type": "code",
   "execution_count": null,
   "id": "cbcffeaf-a256-4836-8b2f-01638abdc4c6",
   "metadata": {},
   "outputs": [],
   "source": []
  }
 ],
 "metadata": {
  "kernelspec": {
   "display_name": "Python 3 (ipykernel)",
   "language": "python",
   "name": "python3"
  },
  "language_info": {
   "codemirror_mode": {
    "name": "ipython",
    "version": 3
   },
   "file_extension": ".py",
   "mimetype": "text/x-python",
   "name": "python",
   "nbconvert_exporter": "python",
   "pygments_lexer": "ipython3",
   "version": "3.9.7"
  }
 },
 "nbformat": 4,
 "nbformat_minor": 5
}
