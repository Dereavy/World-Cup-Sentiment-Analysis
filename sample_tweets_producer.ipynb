{
 "cells": [
  {
   "cell_type": "markdown",
   "id": "e6b625d3-d941-44f3-974f-cfc96069f086",
   "metadata": {},
   "source": [
    "# Creation of data stream from pandas dataframe"
   ]
  },
  {
   "cell_type": "code",
   "execution_count": null,
   "id": "ca6ec5d0-97f8-4012-806c-e63777f38d81",
   "metadata": {
    "scrolled": true,
    "tags": []
   },
   "outputs": [],
   "source": [
    "import pandas as pd\n",
    "import time\n",
    "import random\n",
    "from kafka import KafkaProducer\n",
    "\n",
    "class SampleTweetProducer():\n",
    "    \n",
    "    producer = KafkaProducer(bootstrap_servers='localhost:9092')\n",
    "    \n",
    "    tweets_df = pd.read_csv(\"data/airline_tweets.csv\")\n",
    "    \n",
    "    def get_rows(self,dataframe):\n",
    "        for tweet in dataframe.itertuples():\n",
    "            yield tweet\n",
    "            time.sleep(random.uniform(0.5,2))\n",
    "    \n",
    "    def to_kafka(self,tweet):\n",
    "        # print(tweet)\n",
    "        self.producer.send(\"twitter\",tweet.encode())\n",
    "\n",
    "    def stream(self):\n",
    "        for tweet in self.get_rows(self.tweets_df): # print every 1sec\n",
    "            self.to_kafka(tweet.text)\n",
    "      \n",
    "streamer = SampleTweetProducer()\n",
    "streamer.stream()\n",
    "# Test a single tweet :\n",
    "# streamer.to_kafka(\"tweet text goes here\")"
   ]
  },
  {
   "cell_type": "code",
   "execution_count": null,
   "id": "ad6936e6-58aa-4e7a-b2a8-bf5247e3a582",
   "metadata": {},
   "outputs": [],
   "source": []
  },
  {
   "cell_type": "code",
   "execution_count": null,
   "id": "38724970-c8d5-4e26-bd04-f333c7a19d3a",
   "metadata": {},
   "outputs": [],
   "source": []
  }
 ],
 "metadata": {
  "kernelspec": {
   "display_name": "Python 3 (ipykernel)",
   "language": "python",
   "name": "python3"
  },
  "language_info": {
   "codemirror_mode": {
    "name": "ipython",
    "version": 3
   },
   "file_extension": ".py",
   "mimetype": "text/x-python",
   "name": "python",
   "nbconvert_exporter": "python",
   "pygments_lexer": "ipython3",
   "version": "3.9.7"
  }
 },
 "nbformat": 4,
 "nbformat_minor": 5
}
