{
 "cells": [
  {
   "cell_type": "code",
   "execution_count": null,
   "id": "4a972f8a-d9af-451a-9f2d-a37cf36ba179",
   "metadata": {},
   "outputs": [],
   "source": [
    "\n",
    "\n",
    "class DatabaseService():\n",
    "    \n",
    "    file_path = 'output/airline_sentiments.csv'\n",
    "\n",
    "    # Save sentiment to csv\n",
    "    def to_csv(self, text, polarity, sentiment):\n",
    "        \n",
    "        # Write the header of the file if new file\n",
    "        if(not os.path.exists(self.file_path)):\n",
    "            with open(self.file_path, 'w') as f:\n",
    "                writer_object = writer(f)\n",
    "                writer_object.writerow(['sentiment', 'polarity', 'tweet'])\n",
    "                f.close()\n",
    "\n",
    "        with open(self.file_path, 'a') as f:\n",
    "            writer_object = writer(f)\n",
    "            writer_object.writerow([sentiment, polarity, text])\n",
    "            f.close()"
   ]
  }
 ],
 "metadata": {
  "kernelspec": {
   "display_name": "Python 3 (ipykernel)",
   "language": "python",
   "name": "python3"
  },
  "language_info": {
   "codemirror_mode": {
    "name": "ipython",
    "version": 3
   },
   "file_extension": ".py",
   "mimetype": "text/x-python",
   "name": "python",
   "nbconvert_exporter": "python",
   "pygments_lexer": "ipython3",
   "version": "3.9.7"
  }
 },
 "nbformat": 4,
 "nbformat_minor": 5
}
