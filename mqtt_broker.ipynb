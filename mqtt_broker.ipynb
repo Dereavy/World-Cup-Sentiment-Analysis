{
 "cells": [
  {
   "cell_type": "code",
   "execution_count": null,
   "id": "f33f756d-f95a-413d-99bc-923e950936bc",
   "metadata": {},
   "outputs": [],
   "source": [
    "from paho.mqtt import client as mqtt_client\n",
    "\n",
    "class MQTTProducer(broker='localhost',port=1883, topic='python/mqtt'):\n",
    "    topic_id = topic.replace(\"/\",\"-\")\n",
    "    client_id = f'{topic_id}-{random.randint(0, 1000)}'\n",
    "    # username = 'emqx'\n",
    "    # password = 'public'\n",
    "    \n",
    "    def connect_mqtt():\n",
    "        def on_connect(client, userdata, flags, rc):\n",
    "            if rc == 0:\n",
    "                print(\"Connected to MQTT Broker!\")\n",
    "            else:\n",
    "                print(\"Failed to connect, return code %d\\n\", rc)\n",
    "\n",
    "        client = mqtt_client.Client(client_id)\n",
    "        client.username_pw_set(username, password)\n",
    "        client.on_connect = on_connect\n",
    "        client.connect(broker, port)\n",
    "        return client\n",
    "    \n",
    "    def publish(client):\n",
    "        msg_count = 0\n",
    "        while True:\n",
    "            time.sleep(1)\n",
    "            msg = f\"messages: {msg_count}\"\n",
    "            result = client.publish(topic, msg)\n",
    "            # result: [0, 1]\n",
    "            status = result[0]\n",
    "            if status == 0:\n",
    "                print(f\"Send `{msg}` to topic `{topic}`\")\n",
    "            else:\n",
    "                print(f\"Failed to send message to topic {topic}\")\n",
    "            msg_count += 1"
   ]
  }
 ],
 "metadata": {
  "kernelspec": {
   "display_name": "Python 3 (ipykernel)",
   "language": "python",
   "name": "python3"
  },
  "language_info": {
   "codemirror_mode": {
    "name": "ipython",
    "version": 3
   },
   "file_extension": ".py",
   "mimetype": "text/x-python",
   "name": "python",
   "nbconvert_exporter": "python",
   "pygments_lexer": "ipython3",
   "version": "3.9.7"
  }
 },
 "nbformat": 4,
 "nbformat_minor": 5
}
