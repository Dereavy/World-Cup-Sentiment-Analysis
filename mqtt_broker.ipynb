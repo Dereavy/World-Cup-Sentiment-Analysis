{
 "cells": [
  {
   "cell_type": "code",
   "execution_count": null,
   "id": "f33f756d-f95a-413d-99bc-923e950936bc",
   "metadata": {},
   "outputs": [],
   "source": [
    "# docs: https://pypi.org/project/paho-mqtt\n",
    "from paho.mqtt import client as mqtt_client\n",
    "import random\n",
    "\n",
    "class MQTTProducer():\n",
    "    \n",
    "    def __init__(self,broker='localhost',port=1883, topic='python/mqtt'):\n",
    "    \n",
    "        self.topic_id = topic.replace(\"/\",\"-\")\n",
    "        self.client_id = f'{self.topic_id}-{random.randint(0, 1000)}'\n",
    "        self.username = 'mqtt_username'\n",
    "        self.password = 'public'\n",
    "        self.broker = broker\n",
    "        self.port = port\n",
    "\n",
    "    # body of the constructor\n",
    "    \n",
    "    def connect_mqtt(self):\n",
    "        def on_connect(client, userdata, flags, rc):\n",
    "            if rc == 0:\n",
    "                print(\"Connected to MQTT Broker!\")\n",
    "            else:\n",
    "                print(\"Failed to connect, return code %d\\n\", rc)\n",
    "\n",
    "        client = mqtt_client.Client(self.client_id)\n",
    "        client.username_pw_set(self.username, self.password)\n",
    "        client.on_connect = on_connect\n",
    "        client.connect(self.broker, self.port)\n",
    "        return client"
   ]
  }
 ],
 "metadata": {
  "kernelspec": {
   "display_name": "Python 3 (ipykernel)",
   "language": "python",
   "name": "python3"
  },
  "language_info": {
   "codemirror_mode": {
    "name": "ipython",
    "version": 3
   },
   "file_extension": ".py",
   "mimetype": "text/x-python",
   "name": "python",
   "nbconvert_exporter": "python",
   "pygments_lexer": "ipython3",
   "version": "3.9.7"
  }
 },
 "nbformat": 4,
 "nbformat_minor": 5
}
